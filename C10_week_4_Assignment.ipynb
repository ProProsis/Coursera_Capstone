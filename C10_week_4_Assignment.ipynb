{
    "cells": [
        {
            "cell_type": "markdown",
            "metadata": {
                "collapsed": true
            },
            "source": "# Introduction/Business Problem"
        },
        {
            "cell_type": "code",
            "execution_count": null,
            "metadata": {},
            "outputs": [],
            "source": ""
        },
        {
            "cell_type": "code",
            "execution_count": null,
            "metadata": {},
            "outputs": [],
            "source": "A description of the problem and a discussion of the background\nI am a consultant, and I was asked to indicate a good spot in Toronto to open a Greek restaurant (might choose another kind of food according to the available data). Depending of course on the available data, the idea here is to select a place where there will be some Greek restaurants in order to increase the chances that the area might be known for Greek food and that may attract easier customers. While at the same time the existing the restaurants will not be rated very high to also increase the chances to establish a new restaurant known as one of the best options for Greek food in the area."
        }
    ],
    "metadata": {
        "kernelspec": {
            "display_name": "Python 3.7",
            "language": "python",
            "name": "python3"
        },
        "language_info": {
            "codemirror_mode": {
                "name": "ipython",
                "version": 3
            },
            "file_extension": ".py",
            "mimetype": "text/x-python",
            "name": "python",
            "nbconvert_exporter": "python",
            "pygments_lexer": "ipython3",
            "version": "3.7.10"
        }
    },
    "nbformat": 4,
    "nbformat_minor": 1
}