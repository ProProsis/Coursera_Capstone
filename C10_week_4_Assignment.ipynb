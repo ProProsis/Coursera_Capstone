{
    "cells": [
        {
            "cell_type": "markdown",
            "metadata": {
                "collapsed": true
            },
            "source": "# Introduction/Business Problem"
        },
        {
            "cell_type": "markdown",
            "metadata": {},
            "source": "## A description of the problem and a discussion of the background"
        },
        {
            "cell_type": "markdown",
            "metadata": {},
            "source": "Scenario: More and more Greek people visit or ihabit to Canada and more specifically in the greater area of Toronto. I am a consultant, and I was asked to indicate a good spot in the greater area of Toronto to open a Greek restaurant."
        },
        {
            "cell_type": "markdown",
            "metadata": {},
            "source": "## A description of the data and how it will be used to solve the problem"
        },
        {
            "cell_type": "markdown",
            "metadata": {},
            "source": "Depending of course on the available data, the idea here is to select a place where there will be no or at least a few Greek restaurantsto ensune that there is an open spot for a Greek restaurant. In addition, I aim to identify the densely populated areas with greek people which may indicates the existance of many possible customers."
        },
        {
            "cell_type": "code",
            "execution_count": null,
            "metadata": {},
            "outputs": [],
            "source": ""
        }
    ],
    "metadata": {
        "kernelspec": {
            "display_name": "Python 3.7",
            "language": "python",
            "name": "python3"
        },
        "language_info": {
            "codemirror_mode": {
                "name": "ipython",
                "version": 3
            },
            "file_extension": ".py",
            "mimetype": "text/x-python",
            "name": "python",
            "nbconvert_exporter": "python",
            "pygments_lexer": "ipython3",
            "version": "3.7.10"
        }
    },
    "nbformat": 4,
    "nbformat_minor": 1
}